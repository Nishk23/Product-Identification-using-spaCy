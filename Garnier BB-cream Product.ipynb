{
 "cells": [
  {
   "cell_type": "markdown",
   "metadata": {},
   "source": [
    "### Load the package"
   ]
  },
  {
   "cell_type": "code",
   "execution_count": 1,
   "metadata": {},
   "outputs": [],
   "source": [
    "from __future__ import unicode_literals, print_function\n",
    "import plac\n",
    "import random\n",
    "from pathlib import Path\n",
    "import spacy\n",
    "from tqdm import tqdm \n",
    "import spacy\n",
    "from spellchecker import SpellChecker\n",
    "import re"
   ]
  },
  {
   "cell_type": "markdown",
   "metadata": {},
   "source": [
    "### Create a model"
   ]
  },
  {
   "cell_type": "code",
   "execution_count": 2,
   "metadata": {},
   "outputs": [],
   "source": [
    "nlp = spacy.load('en_core_web_md')"
   ]
  },
  {
   "cell_type": "markdown",
   "metadata": {},
   "source": [
    "### Training Input"
   ]
  },
  {
   "cell_type": "code",
   "execution_count": 3,
   "metadata": {},
   "outputs": [
    {
     "name": "stdout",
     "output_type": "stream",
     "text": [
      "25 33\n"
     ]
    }
   ],
   "source": [
    "s1=\"1.I absolutely love this BB cream. I have repurchased multiple bottles over the years. It’s a lovely formula which easily blends into the skin. It has a medium coverage and mattifies the skin. My skin looks good all day with this product and it improves my skins condition with use also! Great bonus that it has SPF 20. I have knocked a star off as the shade “light” must have recently been changed as it’s now too dark for my skin tone. I would say it’s more of a medium shade which is a shame.\"\n",
    "s1=s1.lower()\n",
    "s=r\"\\b(bb cream)\\b\"\n",
    "matches = re.search(s, s1)\n",
    "print(matches.start(),matches.end())"
   ]
  },
  {
   "cell_type": "code",
   "execution_count": 4,
   "metadata": {},
   "outputs": [
    {
     "name": "stdout",
     "output_type": "stream",
     "text": [
      "27 35\n"
     ]
    }
   ],
   "source": [
    "s2=\"2.I always use the garnier bb cream medium but the last one I bought the box and tube had changed. It’s much darker as well. Think might have to go lighter.\"\n",
    "s2=s2.lower()\n",
    "s=r\"\\b(bb cream)\\b\"\n",
    "matches = re.search(s, s2)\n",
    "print(matches.start(),matches.end())"
   ]
  },
  {
   "cell_type": "code",
   "execution_count": 5,
   "metadata": {},
   "outputs": [
    {
     "name": "stdout",
     "output_type": "stream",
     "text": [
      "105 113\n"
     ]
    }
   ],
   "source": [
    "s3=\"3.I picked this up today because it was on sale and was extremely disappointed. I have pale skin and the BB cream just looked straight up orange on me. Not at all what I was expecting given it's called light. It also goes on very streaky and patchy and has a very strong fragrance. Needless to say, I couldn't even leave the house with it on and removed it straight away, so I can't attest to the product's longevity. Worst base product I've ever tried.\"\n",
    "s3=s3.lower()\n",
    "s=r\"\\b(bb cream)\\b\"\n",
    "matches = re.search(s, s3)\n",
    "print(matches.start(),matches.end())"
   ]
  },
  {
   "cell_type": "code",
   "execution_count": 6,
   "metadata": {},
   "outputs": [
    {
     "data": {
      "text/plain": [
       "27"
      ]
     },
     "execution_count": 6,
     "metadata": {},
     "output_type": "execute_result"
    }
   ],
   "source": [
    "s4=\"4.I have bought several bb creams over the years and always been disappointed so wasn't expecting much from this. It does everything it promises, and I absolutely love it. I don't like wearing heavy makeup but don't have the best skin and this gives the perfect amount of coverage. Unlike many products that promise to mattify this actually does without drying out my skin and gives a lovely glow. A little goes a long way so I can tell this is going to last for ages. I have never felt so confident in how my skin looks and I will not be changing from this cream! Outperforms much more expensive formulas I've tried, absolute winner for me.\"\n",
    "s4=s4.lower()\n",
    "s2.find(\"bb cream\")"
   ]
  },
  {
   "cell_type": "code",
   "execution_count": 7,
   "metadata": {},
   "outputs": [
    {
     "name": "stdout",
     "output_type": "stream",
     "text": [
      "32 40\n"
     ]
    }
   ],
   "source": [
    "s5=\"5.this is my first time using a bb cream and honestly it’s great! i have slightly oily/combination skin and it mattifies my skin, but almost too much it looks quite dry. It evens my skin tone really really well as i have quite red face and it covers it well! Also, I’ve found that when applying with a damp beauty blender it becomes a tad patchy due to the water, but it blends really easily! I could only find the shades light and medium and being a fair/warm toned , blonde/brown hair, I’ve found that even the light shade hasn’t an orange undertone. I usually brighten it with a concealer, but it adds to the dryness.\"\n",
    "s5=s5.lower()\n",
    "s=r\"\\b(bb cream)\\b\"\n",
    "matches = re.search(s, s5)\n",
    "print(matches.start(),matches.end())"
   ]
  },
  {
   "cell_type": "code",
   "execution_count": 8,
   "metadata": {},
   "outputs": [
    {
     "name": "stdout",
     "output_type": "stream",
     "text": [
      "35 43\n"
     ]
    }
   ],
   "source": [
    "s6=\"6.My absolute favourite foundation/BB Cream! I have been using this for 3 years and have never strayed! It is the perfect natural base for your face - applied with a beauty blender gives a flawless look without being heavy and stays on all day with a primer and a bit of setting powder, light contour and blusher also sit nicely on top. It has a medium buildable coverage, honestly feel like it covers better than any other drugstore foundation I’ve used! Only negative is the shade range, however I have shades light and medium and mix them accordingly throughout the year to get my perfect colour! My skin has also improved since using this as it is non-clogging and has plenty of skin benefits, so you don't need to feel guilty about wearing it every day. The tube also lasts for ages (9+ months). Definitely recommend for oily/combination/blemish prone skin.\"\n",
    "s6=s6.lower()\n",
    "s=r\"\\b(bb cream)\\b\"\n",
    "matches = re.search(s, s6)\n",
    "print(matches.start(),matches.end())"
   ]
  },
  {
   "cell_type": "code",
   "execution_count": 9,
   "metadata": {},
   "outputs": [
    {
     "name": "stdout",
     "output_type": "stream",
     "text": [
      "55 63\n"
     ]
    }
   ],
   "source": [
    "s7=\"7.I switched a few months ago from the original garner BB cream to this version as my T-zone seems to have decided to be greasy and I was getting a few break-outs. This gives just enough coverage to tone down my red cheeks a bit but without looking like I have too heavy a face of make up on. Easy to use (and easy to remove at the end of the day) this has earned a permanent spot in my makeup bag!\"\n",
    "s7=s7.lower()\n",
    "s=r\"\\b(bb cream)\\b\"\n",
    "matches = re.search(s, s7)\n",
    "print(matches.start(),matches.end())"
   ]
  },
  {
   "cell_type": "code",
   "execution_count": 10,
   "metadata": {},
   "outputs": [
    {
     "name": "stdout",
     "output_type": "stream",
     "text": [
      "157 165\n"
     ]
    }
   ],
   "source": [
    "s8=\"8.Have been using this product for several weeks now and I love it. 47yrs old and was looking for something lighter for the summer and thought I would try a BB cream. I can't rate this product highly enough, I tend to use pricey foundation just because of my age and I don't have great skin but this BB cream gives me an even better finish, goes on smoothly, doesn't settle in lines (I do use a primer tho) last's all day with no shine and I just love the finish it gives. Don't be put off by the way it looks when first applied it's one of these products that takes about 10-15mins to settle but perfect after that. Buy it!\"\n",
    "s8=s8.lower()\n",
    "s=r\"\\b(bb cream)\\b\"\n",
    "matches = re.search(s, s8)\n",
    "print(matches.start(),matches.end())"
   ]
  },
  {
   "cell_type": "code",
   "execution_count": 11,
   "metadata": {},
   "outputs": [
    {
     "name": "stdout",
     "output_type": "stream",
     "text": [
      "530 538\n"
     ]
    }
   ],
   "source": [
    "s9=\"9.I bought this two days ago and I have used it twice and I am so, so pleased with it. I have combination skin but not many bb creams that are made for this skin type work very well - either they make me really oily or dry certain areas out. But this is perfect for me! I got it in medium even though I'm quite pale and it's wonderful. Doesn't dry my skin out or make my T-zone excessively oily like others. It gives a lovely, natural, even coverage and I have already had one compliment on my skin with using it. Because it is a bb cream it doesn't cover blemishes, so have a concealer at hand, but for a light, even coverage (gets rid of my redness) definitely give it a try!!!\"\n",
    "s9=s9.lower()\n",
    "s=r\"\\b(bb cream)\\b\"\n",
    "matches = re.search(s, s9)\n",
    "print(matches.start(),matches.end())"
   ]
  },
  {
   "cell_type": "code",
   "execution_count": 12,
   "metadata": {},
   "outputs": [
    {
     "name": "stdout",
     "output_type": "stream",
     "text": [
      "375 383\n"
     ]
    }
   ],
   "source": [
    "s10=\"10.Like many people I am constantly on the hunt for the perfect base. I spent years wearing really heavy foundation every day and now being 25 I want to look after my skin more and embrace being a little more natural. So, I was on the hunt for lighter coverage foundation/base. On a bit of a whim I bought this as its oil free and I get quite oily. I was sceptical as it's a bb cream and I thought that would be too light coverage to be honest. But it's amazing. I literally couldn't believe how nice my skin looked when I put this on. Even my boyfriend commented on it. It's a runny texture and I use a buffing brush to put it on and it's so quick and easy. It's not thick but it has good coverage. Definitely build-able and actually has a lot more coverage than expected. If you just want a tinted moisturiser type product I wouldn't say this is that, it's a little more coverage than that (which I love). It's a really good middle ground for me as not wearing a base isn't an option for me sadly. My only one negative is that it does rub off my nose quite easily as that's where I am most oily. I would like it to be a little more long lasting but honestly I'm okay with it because it makes me skin feel like it can breathe and I love the overall look far more than a thick foundation which also always rubs off my nose but looks worse! I just use the remains of the product on the brush to top up in the day and that's enough!\"\n",
    "s10=s10.lower()\n",
    "s=r\"\\b(bb cream)\\b\"\n",
    "matches = re.search(s, s10)\n",
    "print(matches.start(),matches.end())"
   ]
  },
  {
   "cell_type": "code",
   "execution_count": 13,
   "metadata": {},
   "outputs": [
    {
     "name": "stdout",
     "output_type": "stream",
     "text": [
      "32 40\n"
     ]
    }
   ],
   "source": [
    "s11=\"11.I usually use the Maybelline bb cream, but I decided to get this one instead. great coverage and it actually reduced my acne. would recommend it\"\n",
    "s11=s11.lower()\n",
    "s=r\"\\b(bb cream)\\b\"\n",
    "matches = re.search(s, s11)\n",
    "print(matches.start(),matches.end())"
   ]
  },
  {
   "cell_type": "code",
   "execution_count": 14,
   "metadata": {},
   "outputs": [
    {
     "name": "stdout",
     "output_type": "stream",
     "text": [
      "15 23\n"
     ]
    }
   ],
   "source": [
    "s12=\"12.I love this BB cream for combination skin, but with my pale complexion it only really suits me when I've got a tan (which just doesn't happen that often when you live in the UK!). Please introduce the extra light shade for this one as well!\"\n",
    "s12=s12.lower()\n",
    "s=r\"\\b(bb cream)\\b\"\n",
    "matches = re.search(s, s12)\n",
    "print(matches.start(),matches.end())"
   ]
  },
  {
   "cell_type": "code",
   "execution_count": 15,
   "metadata": {},
   "outputs": [
    {
     "data": {
      "text/plain": [
       "-1"
      ]
     },
     "execution_count": 15,
     "metadata": {},
     "output_type": "execute_result"
    }
   ],
   "source": [
    "s13=\"13.This product does what it says on the box to be fair, it does make your skin that little bit better without having to trowel foundation all over your face.\"\n",
    "s13=s13.lower()\n",
    "s13.find(\"bb cream\")"
   ]
  },
  {
   "cell_type": "code",
   "execution_count": 16,
   "metadata": {},
   "outputs": [
    {
     "data": {
      "text/plain": [
       "-1"
      ]
     },
     "execution_count": 16,
     "metadata": {},
     "output_type": "execute_result"
    }
   ],
   "source": [
    "s14=\"14.It does control oil for about 4 hours, after which I find I have to remove my oil with blotting papers and then use Rimmel Stay Matte to take a bit of the shine off my face.\"\n",
    "s14=s14.lower()\n",
    "s14.find(\"bb cream\")"
   ]
  },
  {
   "cell_type": "code",
   "execution_count": 17,
   "metadata": {},
   "outputs": [
    {
     "name": "stdout",
     "output_type": "stream",
     "text": [
      "736 744\n"
     ]
    }
   ],
   "source": [
    "s15=\"15.What I'm really disappointed with is the colour. This product is, unusually, on the yellow toned side, which normally complements my neutral undertones a lot better than standard pink based BB creams, but it's about 3 shades too dark for me, and there are no lighter shades than this available. I look like I've been tangoed when I wear it, and there's no way of blending it in around my chin line. As your face gets more oily, the colour does lighten up to complement your natural skin, but this can take all morning, and then by lunchtime, when it looks a normal colour, your face has become oily, so you feel like taking it off and reapplying. All of that hassle, and it doesn't completely hide your blemishes because it's only a BB cream anyway.... I'd rather get out a trusty foundation :( And I really wanted to make this work for me, as on the box it seemed too good to be true.\"\n",
    "s15=s15.lower()\n",
    "s=r\"\\b(bb cream)\\b\"\n",
    "matches = re.search(s, s15)\n",
    "print(matches.start(),matches.end())"
   ]
  },
  {
   "cell_type": "code",
   "execution_count": 18,
   "metadata": {},
   "outputs": [
    {
     "name": "stdout",
     "output_type": "stream",
     "text": [
      "20 28\n"
     ]
    }
   ],
   "source": [
    "s16=\"16.I thought that a BB Cream specifically for combination skin would work miracles. I am sad to say that it didn't. The colour of the product is good as my skin is quite tanned and the coverage was reasonable. However, this is where the good points end. The product is extremely runny so is messy to apply and it's difficult to keep a clean make up bag with this in it. It also transfers very easily from your face to your hands throughout the day, so pretty much everything I handled would end up with the product clinging to it. I have typical combination skin, but this product seems to have aggravated the worst traits. It clings to dry patches, and has created more patches where I wouldn't normally get dry skin e.g. around my nose and between my eyebrows. I have also experienced a lot more breakouts of spots than normal. The spots have been awful. They are big, angry and very sore and whereas if I don't touch or squeeze spots they will usually disappear on their own after a couple of days, when using this they lasted much longer and instead of covering the problem this product just seemed to make things much worse. It has also done nothing to prevent shine as my skin looked oily after just a couple of hours. I've given up on this BB Cream after less than a month and have had to go completely make up free for the past week to give my skin chance to calm down. I'm sure that this product suits lots of people but if you have combination skin that is also quite sensitive my advice would be to avoid it at all costs.\"\n",
    "s16=s16.lower()\n",
    "s=r\"\\b(bb cream)\\b\"\n",
    "matches = re.search(s, s16)\n",
    "print(matches.start(),matches.end())"
   ]
  },
  {
   "cell_type": "code",
   "execution_count": 19,
   "metadata": {},
   "outputs": [
    {
     "name": "stdout",
     "output_type": "stream",
     "text": [
      "260 268\n"
     ]
    }
   ],
   "source": [
    "s17=\"17.I've tried loads of BB creams trying to find one that actually works and does what it says! Every other one I've found says light but is actually orange. This Garnier one is actually a light colour! Yellow undertones so perfect for me. Great coverage for a BB cream, I'd even say better than some foundation's I've had in the past. And...... It's matte!!! No shine and no stickiness! The only thing I don't like about it is that the box says to apply it like you would a moisturiser. I'd advise to use a brush, it's a little bit hard to blend around the edges of your face and I find fingers make the cheeks look blotchy.\"\n",
    "s17=s17.lower()\n",
    "s=r\"\\b(bb cream)\\b\"\n",
    "matches = re.search(s, s17)\n",
    "print(matches.start(),matches.end())"
   ]
  },
  {
   "cell_type": "code",
   "execution_count": 20,
   "metadata": {},
   "outputs": [
    {
     "name": "stdout",
     "output_type": "stream",
     "text": [
      "289 297\n"
     ]
    }
   ],
   "source": [
    "s18=\"18.Quite disappointing, it doesn't blend well, it leaves my face looking waxy and orange and it makes my foundation look weird. Definitely not a good buy. I tried a little trick since I didn't want this to go to waste. I mixed some of my foundation in a little pot along with some of this BB cream and once applied, it looked a little better than on it's own, but still, If you are thinking about buying it, think twice. I wouldn't recommend it.\"\n",
    "s18=s18.lower()\n",
    "s=r\"\\b(bb cream)\\b\"\n",
    "matches = re.search(s, s18)\n",
    "print(matches.start(),matches.end())"
   ]
  },
  {
   "cell_type": "code",
   "execution_count": 21,
   "metadata": {},
   "outputs": [
    {
     "name": "stdout",
     "output_type": "stream",
     "text": [
      "462 470\n"
     ]
    }
   ],
   "source": [
    "s19=\"19.I normally use my Loreal True Match foundation every day, but it's safe to say I'll be switching to this! It has the same coverage as a foundation and evens out skin tone, but it feels just like skin on your face as if nothing's there! It hardly ever creases and lasts hours without fading away! Sometimes redness can show through after a few hours but if you use a good concealer there'll be no problem! I have normal skin but I'm oily in my t-zone, so this bb cream is perfect as it stays matte all day, and even longer if you use some powder\"\n",
    "s19=s19.lower()\n",
    "s=r\"\\b(bb cream)\\b\"\n",
    "matches = re.search(s, s19)\n",
    "print(matches.start(),matches.end())"
   ]
  },
  {
   "cell_type": "code",
   "execution_count": 22,
   "metadata": {},
   "outputs": [
    {
     "name": "stdout",
     "output_type": "stream",
     "text": [
      "20 28\n"
     ]
    }
   ],
   "source": [
    "s20=\"20.I've bought this bb cream several times as I love the dewy finish it gives me. The coverage isn't brilliant, but I use concealer too. Unfortunately, I'm looking for another bb cream next time though as I'm sick of it leaking all over my makeup bag. I'm not sure why it does that, I can only assume it's the screw top lid. If Garnier change it for a pump applicator I might consider buying it again.\"\n",
    "s20=s20.lower()\n",
    "s=r\"\\b(bb cream)\\b\"\n",
    "matches = re.search(s, s20)\n",
    "print(matches.start(),matches.end())"
   ]
  },
  {
   "cell_type": "markdown",
   "metadata": {},
   "source": [
    "### Training Data"
   ]
  },
  {
   "cell_type": "code",
   "execution_count": 23,
   "metadata": {},
   "outputs": [],
   "source": [
    "TRAIN_DATA = [\n",
    "    (s1, {\n",
    "        'entities': [(25, 33, 'Garnier BB Cream Miracle Skin Perfector')]\n",
    "    }),\n",
    "     (s2, {\n",
    "        'entities': [(27, 35, 'Garnier BB Cream Miracle Skin Perfector')]\n",
    "    }),\n",
    "    (s3, {\n",
    "        'entities': [(105, 113, 'Garnier BB Cream Miracle Skin Perfector')]\n",
    "    }),\n",
    "    (s4, {\n",
    "        'entities': [(27, 35, 'Garnier BB Cream Miracle Skin Perfector')]\n",
    "    }),\n",
    "    (s5, {\n",
    "        'entities': [(32, 40, 'Garnier BB Cream Miracle Skin Perfector')]\n",
    "    }),\n",
    "    (s6, {\n",
    "        'entities': [(35, 43, 'Garnier BB Cream Miracle Skin Perfector')]\n",
    "    }),\n",
    "    (s7, {\n",
    "        'entities': [(55, 63, 'Garnier BB Cream Miracle Skin Perfector')]\n",
    "    }),\n",
    "    (s8, {\n",
    "        'entities': [(157, 165, 'Garnier BB Cream Miracle Skin Perfector')]\n",
    "    }),\n",
    "    (s9, {\n",
    "        'entities': [(530, 538, 'Garnier BB Cream Miracle Skin Perfector')]\n",
    "    }),\n",
    "    (s10, {\n",
    "        'entities': [(375, 383, 'Garnier BB Cream Miracle Skin Perfector')]\n",
    "    }),\n",
    "    (s11, {\n",
    "        'entities': [(32, 40, 'Garnier BB Cream Miracle Skin Perfector')]\n",
    "    }),\n",
    "    (s12, {\n",
    "        'entities': [(15, 23, 'Garnier BB Cream Miracle Skin Perfector')]\n",
    "    }),\n",
    "    (s13, {\n",
    "        'entities': []\n",
    "    }),\n",
    "    (s14, {\n",
    "        'entities': []\n",
    "    }),\n",
    "    (s15, {\n",
    "        'entities': [(736, 744, 'Garnier BB Cream Miracle Skin Perfector')]\n",
    "    }),\n",
    "    (s16, {\n",
    "        'entities': [(20, 28, 'Garnier BB Cream Miracle Skin Perfector')]\n",
    "    }),\n",
    "    (s17, {\n",
    "        'entities': [(260, 268, 'Garnier BB Cream Miracle Skin Perfector')]\n",
    "    }),\n",
    "    (s18, {\n",
    "        'entities': [(289, 297, 'Garnier BB Cream Miracle Skin Perfector')]\n",
    "    }),\n",
    "    (s19, {\n",
    "        'entities': [(462, 470, 'Garnier BB Cream Miracle Skin Perfector')]\n",
    "    }),\n",
    "    (s20, {\n",
    "        'entities': [(20, 28, 'Garnier BB Cream Miracle Skin Perfector')]\n",
    "    })\n",
    "]"
   ]
  },
  {
   "cell_type": "markdown",
   "metadata": {},
   "source": [
    "### Define our variables"
   ]
  },
  {
   "cell_type": "code",
   "execution_count": 24,
   "metadata": {},
   "outputs": [],
   "source": [
    "model = None\n",
    "output_dir=Path(\"C:\\\\Users\\\\nithi\\\\Documents\\\\productNER\")\n",
    "n_iter=100"
   ]
  },
  {
   "cell_type": "markdown",
   "metadata": {},
   "source": [
    "### Load the model"
   ]
  },
  {
   "cell_type": "code",
   "execution_count": 25,
   "metadata": {},
   "outputs": [
    {
     "name": "stdout",
     "output_type": "stream",
     "text": [
      "Created blank 'en' model\n"
     ]
    }
   ],
   "source": [
    "if model is not None:\n",
    "    nlp = spacy.load(model)  \n",
    "    print(\"Loaded model '%s'\" % model)\n",
    "else:\n",
    "    nlp = spacy.blank('en')  \n",
    "    print(\"Created blank 'en' model\")"
   ]
  },
  {
   "cell_type": "markdown",
   "metadata": {},
   "source": [
    "### Set-up the NER pipeline"
   ]
  },
  {
   "cell_type": "code",
   "execution_count": 26,
   "metadata": {},
   "outputs": [],
   "source": [
    "if 'ner' not in nlp.pipe_names:\n",
    "    ner = nlp.create_pipe('ner')\n",
    "    nlp.add_pipe(ner, last=True)\n",
    "else:\n",
    "    ner = nlp.get_pipe('ner')"
   ]
  },
  {
   "cell_type": "markdown",
   "metadata": {},
   "source": [
    "### Train the recognizer"
   ]
  },
  {
   "cell_type": "code",
   "execution_count": 27,
   "metadata": {},
   "outputs": [
    {
     "name": "stderr",
     "output_type": "stream",
     "text": [
      "C:\\Users\\nithi\\anaconda3\\lib\\site-packages\\spacy\\language.py:639: UserWarning: [W033] Training a new parser or NER using a model with no lexeme normalization table. This may degrade the performance of the model to some degree. If this is intentional or the language you're using doesn't have a normalization table, please ignore this warning. If this is surprising, make sure you have the spacy-lookups-data package installed. The languages with lexeme normalization tables are currently: da, de, el, en, id, lb, pt, ru, sr, ta, th.\n",
      "  **kwargs\n",
      " 65%|██████▌   | 13/20 [00:02<00:01,  4.52it/s]C:\\Users\\nithi\\anaconda3\\lib\\site-packages\\spacy\\language.py:482: UserWarning: [W030] Some entities could not be aligned in the text \"4.i have bought several bb creams over the years a...\" with entities \"[(27, 35, 'Garnier BB Cream Miracle Skin Perfector...\". Use `spacy.gold.biluo_tags_from_offsets(nlp.make_doc(text), entities)` to check the alignment. Misaligned entities ('-') will be ignored during training.\n",
      "  gold = GoldParse(doc, **gold)\n",
      "100%|██████████| 20/20 [00:03<00:00,  5.15it/s]\n",
      "  5%|▌         | 1/20 [00:00<00:02,  7.77it/s]"
     ]
    },
    {
     "name": "stdout",
     "output_type": "stream",
     "text": [
      "{'ner': 593.0585778497731}\n"
     ]
    },
    {
     "name": "stderr",
     "output_type": "stream",
     "text": [
      "100%|██████████| 20/20 [00:03<00:00,  6.45it/s]\n",
      "  5%|▌         | 1/20 [00:00<00:02,  6.50it/s]"
     ]
    },
    {
     "name": "stdout",
     "output_type": "stream",
     "text": [
      "{'ner': 32.29909482370461}\n"
     ]
    },
    {
     "name": "stderr",
     "output_type": "stream",
     "text": [
      "100%|██████████| 20/20 [00:03<00:00,  5.65it/s]\n",
      "  0%|          | 0/20 [00:00<?, ?it/s]"
     ]
    },
    {
     "name": "stdout",
     "output_type": "stream",
     "text": [
      "{'ner': 24.412119421454015}\n"
     ]
    },
    {
     "name": "stderr",
     "output_type": "stream",
     "text": [
      "100%|██████████| 20/20 [00:03<00:00,  5.36it/s]\n",
      "  0%|          | 0/20 [00:00<?, ?it/s]"
     ]
    },
    {
     "name": "stdout",
     "output_type": "stream",
     "text": [
      "{'ner': 28.605809884080333}\n"
     ]
    },
    {
     "name": "stderr",
     "output_type": "stream",
     "text": [
      "100%|██████████| 20/20 [00:04<00:00,  4.87it/s]\n",
      "  0%|          | 0/20 [00:00<?, ?it/s]"
     ]
    },
    {
     "name": "stdout",
     "output_type": "stream",
     "text": [
      "{'ner': 20.29973849006036}\n"
     ]
    },
    {
     "name": "stderr",
     "output_type": "stream",
     "text": [
      "100%|██████████| 20/20 [00:03<00:00,  5.56it/s]\n",
      " 10%|█         | 2/20 [00:00<00:01,  9.85it/s]"
     ]
    },
    {
     "name": "stdout",
     "output_type": "stream",
     "text": [
      "{'ner': 14.985738613601558}\n"
     ]
    },
    {
     "name": "stderr",
     "output_type": "stream",
     "text": [
      "100%|██████████| 20/20 [00:03<00:00,  5.74it/s]\n",
      "  5%|▌         | 1/20 [00:00<00:02,  7.35it/s]"
     ]
    },
    {
     "name": "stdout",
     "output_type": "stream",
     "text": [
      "{'ner': 13.765585044739936}\n"
     ]
    },
    {
     "name": "stderr",
     "output_type": "stream",
     "text": [
      "100%|██████████| 20/20 [00:03<00:00,  5.42it/s]\n",
      "  5%|▌         | 1/20 [00:00<00:02,  7.59it/s]"
     ]
    },
    {
     "name": "stdout",
     "output_type": "stream",
     "text": [
      "{'ner': 15.528800355334702}\n"
     ]
    },
    {
     "name": "stderr",
     "output_type": "stream",
     "text": [
      "100%|██████████| 20/20 [00:03<00:00,  5.35it/s]\n",
      "  5%|▌         | 1/20 [00:00<00:02,  6.82it/s]"
     ]
    },
    {
     "name": "stdout",
     "output_type": "stream",
     "text": [
      "{'ner': 7.57973699542884}\n"
     ]
    },
    {
     "name": "stderr",
     "output_type": "stream",
     "text": [
      "100%|██████████| 20/20 [00:03<00:00,  5.07it/s]\n",
      "  5%|▌         | 1/20 [00:00<00:02,  6.43it/s]"
     ]
    },
    {
     "name": "stdout",
     "output_type": "stream",
     "text": [
      "{'ner': 5.618750949018881}\n"
     ]
    },
    {
     "name": "stderr",
     "output_type": "stream",
     "text": [
      "100%|██████████| 20/20 [00:02<00:00,  7.30it/s]\n",
      "  5%|▌         | 1/20 [00:00<00:02,  7.21it/s]"
     ]
    },
    {
     "name": "stdout",
     "output_type": "stream",
     "text": [
      "{'ner': 6.2981057732362205}\n"
     ]
    },
    {
     "name": "stderr",
     "output_type": "stream",
     "text": [
      "100%|██████████| 20/20 [00:03<00:00,  5.31it/s]\n",
      "  5%|▌         | 1/20 [00:00<00:03,  6.11it/s]"
     ]
    },
    {
     "name": "stdout",
     "output_type": "stream",
     "text": [
      "{'ner': 5.940667657346048}\n"
     ]
    },
    {
     "name": "stderr",
     "output_type": "stream",
     "text": [
      "100%|██████████| 20/20 [00:03<00:00,  5.10it/s]\n",
      "  5%|▌         | 1/20 [00:00<00:02,  8.29it/s]"
     ]
    },
    {
     "name": "stdout",
     "output_type": "stream",
     "text": [
      "{'ner': 7.538627567440907}\n"
     ]
    },
    {
     "name": "stderr",
     "output_type": "stream",
     "text": [
      "100%|██████████| 20/20 [00:03<00:00,  5.25it/s]\n",
      "  5%|▌         | 1/20 [00:00<00:02,  7.21it/s]"
     ]
    },
    {
     "name": "stdout",
     "output_type": "stream",
     "text": [
      "{'ner': 1.9482399748849573}\n"
     ]
    },
    {
     "name": "stderr",
     "output_type": "stream",
     "text": [
      "100%|██████████| 20/20 [00:03<00:00,  6.28it/s]\n",
      "  5%|▌         | 1/20 [00:00<00:02,  7.54it/s]"
     ]
    },
    {
     "name": "stdout",
     "output_type": "stream",
     "text": [
      "{'ner': 3.0526879007447105}\n"
     ]
    },
    {
     "name": "stderr",
     "output_type": "stream",
     "text": [
      "100%|██████████| 20/20 [00:03<00:00,  5.79it/s]\n",
      "  5%|▌         | 1/20 [00:00<00:03,  5.60it/s]"
     ]
    },
    {
     "name": "stdout",
     "output_type": "stream",
     "text": [
      "{'ner': 3.0159327681193315}\n"
     ]
    },
    {
     "name": "stderr",
     "output_type": "stream",
     "text": [
      "100%|██████████| 20/20 [00:03<00:00,  5.71it/s]\n",
      "  5%|▌         | 1/20 [00:00<00:03,  5.32it/s]"
     ]
    },
    {
     "name": "stdout",
     "output_type": "stream",
     "text": [
      "{'ner': 2.013120641752515}\n"
     ]
    },
    {
     "name": "stderr",
     "output_type": "stream",
     "text": [
      "100%|██████████| 20/20 [00:03<00:00,  5.28it/s]\n",
      "  5%|▌         | 1/20 [00:00<00:02,  8.05it/s]"
     ]
    },
    {
     "name": "stdout",
     "output_type": "stream",
     "text": [
      "{'ner': 2.6700112360952253}\n"
     ]
    },
    {
     "name": "stderr",
     "output_type": "stream",
     "text": [
      "100%|██████████| 20/20 [00:03<00:00,  5.24it/s]\n",
      "  5%|▌         | 1/20 [00:00<00:03,  5.82it/s]"
     ]
    },
    {
     "name": "stdout",
     "output_type": "stream",
     "text": [
      "{'ner': 1.9894687290658777}\n"
     ]
    },
    {
     "name": "stderr",
     "output_type": "stream",
     "text": [
      "100%|██████████| 20/20 [00:02<00:00,  6.81it/s]\n",
      "  0%|          | 0/20 [00:00<?, ?it/s]"
     ]
    },
    {
     "name": "stdout",
     "output_type": "stream",
     "text": [
      "{'ner': 5.638363602943078}\n"
     ]
    },
    {
     "name": "stderr",
     "output_type": "stream",
     "text": [
      "100%|██████████| 20/20 [00:03<00:00,  5.14it/s]\n",
      "  5%|▌         | 1/20 [00:00<00:03,  5.63it/s]"
     ]
    },
    {
     "name": "stdout",
     "output_type": "stream",
     "text": [
      "{'ner': 1.0738547753904513}\n"
     ]
    },
    {
     "name": "stderr",
     "output_type": "stream",
     "text": [
      "100%|██████████| 20/20 [00:03<00:00,  5.37it/s]\n",
      "  5%|▌         | 1/20 [00:00<00:03,  6.08it/s]"
     ]
    },
    {
     "name": "stdout",
     "output_type": "stream",
     "text": [
      "{'ner': 3.6531849404255388}\n"
     ]
    },
    {
     "name": "stderr",
     "output_type": "stream",
     "text": [
      "100%|██████████| 20/20 [00:03<00:00,  5.28it/s]\n",
      "  5%|▌         | 1/20 [00:00<00:02,  6.39it/s]"
     ]
    },
    {
     "name": "stdout",
     "output_type": "stream",
     "text": [
      "{'ner': 2.000901974503842}\n"
     ]
    },
    {
     "name": "stderr",
     "output_type": "stream",
     "text": [
      "100%|██████████| 20/20 [00:03<00:00,  6.58it/s]\n",
      "  0%|          | 0/20 [00:00<?, ?it/s]"
     ]
    },
    {
     "name": "stdout",
     "output_type": "stream",
     "text": [
      "{'ner': 0.011475162840334967}\n"
     ]
    },
    {
     "name": "stderr",
     "output_type": "stream",
     "text": [
      "100%|██████████| 20/20 [00:03<00:00,  5.77it/s]\n",
      "  5%|▌         | 1/20 [00:00<00:03,  5.25it/s]"
     ]
    },
    {
     "name": "stdout",
     "output_type": "stream",
     "text": [
      "{'ner': 0.002828193088579368}\n"
     ]
    },
    {
     "name": "stderr",
     "output_type": "stream",
     "text": [
      "100%|██████████| 20/20 [00:03<00:00,  5.19it/s]\n",
      "  5%|▌         | 1/20 [00:00<00:03,  6.27it/s]"
     ]
    },
    {
     "name": "stdout",
     "output_type": "stream",
     "text": [
      "{'ner': 0.0001876779792704669}\n"
     ]
    },
    {
     "name": "stderr",
     "output_type": "stream",
     "text": [
      "100%|██████████| 20/20 [00:03<00:00,  5.31it/s]\n",
      "  0%|          | 0/20 [00:00<?, ?it/s]"
     ]
    },
    {
     "name": "stdout",
     "output_type": "stream",
     "text": [
      "{'ner': 0.00012882961124063266}\n"
     ]
    },
    {
     "name": "stderr",
     "output_type": "stream",
     "text": [
      "100%|██████████| 20/20 [00:03<00:00,  5.17it/s]\n",
      "  5%|▌         | 1/20 [00:00<00:02,  8.57it/s]"
     ]
    },
    {
     "name": "stdout",
     "output_type": "stream",
     "text": [
      "{'ner': 2.6022775644768608}\n"
     ]
    },
    {
     "name": "stderr",
     "output_type": "stream",
     "text": [
      "100%|██████████| 20/20 [00:03<00:00,  6.08it/s]\n",
      "  5%|▌         | 1/20 [00:00<00:03,  5.45it/s]"
     ]
    },
    {
     "name": "stdout",
     "output_type": "stream",
     "text": [
      "{'ner': 6.9819656397350135e-06}\n"
     ]
    },
    {
     "name": "stderr",
     "output_type": "stream",
     "text": [
      "100%|██████████| 20/20 [00:03<00:00,  5.36it/s]\n",
      "  0%|          | 0/20 [00:00<?, ?it/s]"
     ]
    },
    {
     "name": "stdout",
     "output_type": "stream",
     "text": [
      "{'ner': 2.2925672616849885e-07}\n"
     ]
    },
    {
     "name": "stderr",
     "output_type": "stream",
     "text": [
      "100%|██████████| 20/20 [00:04<00:00,  4.86it/s]\n",
      "  0%|          | 0/20 [00:00<?, ?it/s]"
     ]
    },
    {
     "name": "stdout",
     "output_type": "stream",
     "text": [
      "{'ner': 2.3381929254979394}\n"
     ]
    },
    {
     "name": "stderr",
     "output_type": "stream",
     "text": [
      "100%|██████████| 20/20 [00:04<00:00,  4.58it/s]\n",
      "  5%|▌         | 1/20 [00:00<00:03,  6.19it/s]"
     ]
    },
    {
     "name": "stdout",
     "output_type": "stream",
     "text": [
      "{'ner': 2.444702622320145e-05}\n"
     ]
    },
    {
     "name": "stderr",
     "output_type": "stream",
     "text": [
      "100%|██████████| 20/20 [00:02<00:00,  7.10it/s]\n",
      "  5%|▌         | 1/20 [00:00<00:03,  5.86it/s]"
     ]
    },
    {
     "name": "stdout",
     "output_type": "stream",
     "text": [
      "{'ner': 1.6145701794684288}\n"
     ]
    },
    {
     "name": "stderr",
     "output_type": "stream",
     "text": [
      "100%|██████████| 20/20 [00:04<00:00,  4.87it/s]\n",
      "  5%|▌         | 1/20 [00:00<00:03,  5.45it/s]"
     ]
    },
    {
     "name": "stdout",
     "output_type": "stream",
     "text": [
      "{'ner': 0.1426411154353018}\n"
     ]
    },
    {
     "name": "stderr",
     "output_type": "stream",
     "text": [
      "100%|██████████| 20/20 [00:04<00:00,  4.66it/s]\n",
      "  5%|▌         | 1/20 [00:00<00:02,  7.71it/s]"
     ]
    },
    {
     "name": "stdout",
     "output_type": "stream",
     "text": [
      "{'ner': 2.3302993603312227e-07}\n"
     ]
    },
    {
     "name": "stderr",
     "output_type": "stream",
     "text": [
      "100%|██████████| 20/20 [00:04<00:00,  4.48it/s]\n",
      "  5%|▌         | 1/20 [00:00<00:03,  5.97it/s]"
     ]
    },
    {
     "name": "stdout",
     "output_type": "stream",
     "text": [
      "{'ner': 0.19411156984636418}\n"
     ]
    },
    {
     "name": "stderr",
     "output_type": "stream",
     "text": [
      "100%|██████████| 20/20 [00:03<00:00,  6.14it/s]\n",
      "  5%|▌         | 1/20 [00:00<00:03,  5.91it/s]"
     ]
    },
    {
     "name": "stdout",
     "output_type": "stream",
     "text": [
      "{'ner': 8.584849658848116e-08}\n"
     ]
    },
    {
     "name": "stderr",
     "output_type": "stream",
     "text": [
      "100%|██████████| 20/20 [00:04<00:00,  4.59it/s]\n",
      "  5%|▌         | 1/20 [00:00<00:03,  4.77it/s]"
     ]
    },
    {
     "name": "stdout",
     "output_type": "stream",
     "text": [
      "{'ner': 0.06495001402677497}\n"
     ]
    },
    {
     "name": "stderr",
     "output_type": "stream",
     "text": [
      "100%|██████████| 20/20 [00:04<00:00,  4.41it/s]\n",
      "  5%|▌         | 1/20 [00:00<00:03,  5.11it/s]"
     ]
    },
    {
     "name": "stdout",
     "output_type": "stream",
     "text": [
      "{'ner': 2.3723587979537577e-06}\n"
     ]
    },
    {
     "name": "stderr",
     "output_type": "stream",
     "text": [
      "100%|██████████| 20/20 [00:04<00:00,  4.46it/s]\n",
      "  5%|▌         | 1/20 [00:00<00:02,  8.02it/s]"
     ]
    },
    {
     "name": "stdout",
     "output_type": "stream",
     "text": [
      "{'ner': 0.0032761587964174233}\n"
     ]
    },
    {
     "name": "stderr",
     "output_type": "stream",
     "text": [
      "100%|██████████| 20/20 [00:03<00:00,  5.25it/s]\n",
      "  5%|▌         | 1/20 [00:00<00:03,  5.09it/s]"
     ]
    },
    {
     "name": "stdout",
     "output_type": "stream",
     "text": [
      "{'ner': 0.00010054419004233073}\n"
     ]
    },
    {
     "name": "stderr",
     "output_type": "stream",
     "text": [
      "100%|██████████| 20/20 [00:04<00:00,  4.85it/s]\n",
      "  0%|          | 0/20 [00:00<?, ?it/s]"
     ]
    },
    {
     "name": "stdout",
     "output_type": "stream",
     "text": [
      "{'ner': 0.16874067229340223}\n"
     ]
    },
    {
     "name": "stderr",
     "output_type": "stream",
     "text": [
      "100%|██████████| 20/20 [00:04<00:00,  4.32it/s]\n",
      "  0%|          | 0/20 [00:00<?, ?it/s]"
     ]
    },
    {
     "name": "stdout",
     "output_type": "stream",
     "text": [
      "{'ner': 9.096841194449487e-05}\n"
     ]
    },
    {
     "name": "stderr",
     "output_type": "stream",
     "text": [
      "100%|██████████| 20/20 [00:04<00:00,  4.75it/s]\n",
      "  5%|▌         | 1/20 [00:00<00:03,  5.60it/s]"
     ]
    },
    {
     "name": "stdout",
     "output_type": "stream",
     "text": [
      "{'ner': 4.292974514162603e-08}\n"
     ]
    },
    {
     "name": "stderr",
     "output_type": "stream",
     "text": [
      "100%|██████████| 20/20 [00:04<00:00,  4.73it/s]\n",
      "  5%|▌         | 1/20 [00:00<00:03,  4.92it/s]"
     ]
    },
    {
     "name": "stdout",
     "output_type": "stream",
     "text": [
      "{'ner': 6.803578210548023e-06}\n"
     ]
    },
    {
     "name": "stderr",
     "output_type": "stream",
     "text": [
      "100%|██████████| 20/20 [00:04<00:00,  4.63it/s]\n",
      "  0%|          | 0/20 [00:00<?, ?it/s]"
     ]
    },
    {
     "name": "stdout",
     "output_type": "stream",
     "text": [
      "{'ner': 1.2828909186152791e-06}\n"
     ]
    },
    {
     "name": "stderr",
     "output_type": "stream",
     "text": [
      "100%|██████████| 20/20 [00:04<00:00,  4.27it/s]\n",
      "  0%|          | 0/20 [00:00<?, ?it/s]"
     ]
    },
    {
     "name": "stdout",
     "output_type": "stream",
     "text": [
      "{'ner': 9.175677987264813e-06}\n"
     ]
    },
    {
     "name": "stderr",
     "output_type": "stream",
     "text": [
      "100%|██████████| 20/20 [00:03<00:00,  5.31it/s]\n",
      "  5%|▌         | 1/20 [00:00<00:02,  7.60it/s]"
     ]
    },
    {
     "name": "stdout",
     "output_type": "stream",
     "text": [
      "{'ner': 0.0001121332515132916}\n"
     ]
    },
    {
     "name": "stderr",
     "output_type": "stream",
     "text": [
      "100%|██████████| 20/20 [00:03<00:00,  5.47it/s]\n",
      "  0%|          | 0/20 [00:00<?, ?it/s]"
     ]
    },
    {
     "name": "stdout",
     "output_type": "stream",
     "text": [
      "{'ner': 0.000904917991613562}\n"
     ]
    },
    {
     "name": "stderr",
     "output_type": "stream",
     "text": [
      "100%|██████████| 20/20 [00:04<00:00,  4.50it/s]\n",
      "  0%|          | 0/20 [00:00<?, ?it/s]"
     ]
    },
    {
     "name": "stdout",
     "output_type": "stream",
     "text": [
      "{'ner': 1.8328828153230154}\n"
     ]
    },
    {
     "name": "stderr",
     "output_type": "stream",
     "text": [
      "100%|██████████| 20/20 [00:04<00:00,  4.64it/s]\n",
      "  0%|          | 0/20 [00:00<?, ?it/s]"
     ]
    },
    {
     "name": "stdout",
     "output_type": "stream",
     "text": [
      "{'ner': 0.31079377896723304}\n"
     ]
    },
    {
     "name": "stderr",
     "output_type": "stream",
     "text": [
      "100%|██████████| 20/20 [00:03<00:00,  5.23it/s]\n",
      "  5%|▌         | 1/20 [00:00<00:03,  6.01it/s]"
     ]
    },
    {
     "name": "stdout",
     "output_type": "stream",
     "text": [
      "{'ner': 0.002450577121310509}\n"
     ]
    },
    {
     "name": "stderr",
     "output_type": "stream",
     "text": [
      "100%|██████████| 20/20 [00:04<00:00,  4.53it/s]\n",
      "  5%|▌         | 1/20 [00:00<00:03,  5.73it/s]"
     ]
    },
    {
     "name": "stdout",
     "output_type": "stream",
     "text": [
      "{'ner': 0.0021225440966737576}\n"
     ]
    },
    {
     "name": "stderr",
     "output_type": "stream",
     "text": [
      "100%|██████████| 20/20 [00:04<00:00,  4.20it/s]\n",
      "  0%|          | 0/20 [00:00<?, ?it/s]"
     ]
    },
    {
     "name": "stdout",
     "output_type": "stream",
     "text": [
      "{'ner': 0.09665587023791097}\n"
     ]
    },
    {
     "name": "stderr",
     "output_type": "stream",
     "text": [
      "100%|██████████| 20/20 [00:04<00:00,  4.41it/s]\n",
      "  5%|▌         | 1/20 [00:00<00:03,  5.70it/s]"
     ]
    },
    {
     "name": "stdout",
     "output_type": "stream",
     "text": [
      "{'ner': 0.0033802662980286884}\n"
     ]
    },
    {
     "name": "stderr",
     "output_type": "stream",
     "text": [
      "100%|██████████| 20/20 [00:03<00:00,  5.78it/s]\n",
      "  0%|          | 0/20 [00:00<?, ?it/s]"
     ]
    },
    {
     "name": "stdout",
     "output_type": "stream",
     "text": [
      "{'ner': 2.2650535382281152e-09}\n"
     ]
    },
    {
     "name": "stderr",
     "output_type": "stream",
     "text": [
      "100%|██████████| 20/20 [00:04<00:00,  4.16it/s]\n",
      "  0%|          | 0/20 [00:00<?, ?it/s]"
     ]
    },
    {
     "name": "stdout",
     "output_type": "stream",
     "text": [
      "{'ner': 9.213636615191114e-07}\n"
     ]
    },
    {
     "name": "stderr",
     "output_type": "stream",
     "text": [
      "100%|██████████| 20/20 [00:04<00:00,  4.86it/s]\n",
      "  5%|▌         | 1/20 [00:00<00:02,  6.96it/s]"
     ]
    },
    {
     "name": "stdout",
     "output_type": "stream",
     "text": [
      "{'ner': 4.3234485641680936e-05}\n"
     ]
    },
    {
     "name": "stderr",
     "output_type": "stream",
     "text": [
      "100%|██████████| 20/20 [00:04<00:00,  4.62it/s]\n",
      "  5%|▌         | 1/20 [00:00<00:03,  5.61it/s]"
     ]
    },
    {
     "name": "stdout",
     "output_type": "stream",
     "text": [
      "{'ner': 4.1783486077904823e-08}\n"
     ]
    },
    {
     "name": "stderr",
     "output_type": "stream",
     "text": [
      "100%|██████████| 20/20 [00:03<00:00,  5.14it/s]\n",
      "  0%|          | 0/20 [00:00<?, ?it/s]"
     ]
    },
    {
     "name": "stdout",
     "output_type": "stream",
     "text": [
      "{'ner': 7.363350456938118e-09}\n"
     ]
    },
    {
     "name": "stderr",
     "output_type": "stream",
     "text": [
      "100%|██████████| 20/20 [00:04<00:00,  4.33it/s]\n",
      "  0%|          | 0/20 [00:00<?, ?it/s]"
     ]
    },
    {
     "name": "stdout",
     "output_type": "stream",
     "text": [
      "{'ner': 9.409225247338482e-11}\n"
     ]
    },
    {
     "name": "stderr",
     "output_type": "stream",
     "text": [
      "100%|██████████| 20/20 [00:04<00:00,  4.51it/s]\n",
      "  5%|▌         | 1/20 [00:00<00:02,  6.35it/s]"
     ]
    },
    {
     "name": "stdout",
     "output_type": "stream",
     "text": [
      "{'ner': 1.6904011524238986e-07}\n"
     ]
    },
    {
     "name": "stderr",
     "output_type": "stream",
     "text": [
      "100%|██████████| 20/20 [00:03<00:00,  5.38it/s]\n",
      "  5%|▌         | 1/20 [00:00<00:02,  7.37it/s]"
     ]
    },
    {
     "name": "stdout",
     "output_type": "stream",
     "text": [
      "{'ner': 1.5952471851964576e-06}\n"
     ]
    },
    {
     "name": "stderr",
     "output_type": "stream",
     "text": [
      "100%|██████████| 20/20 [00:03<00:00,  5.13it/s]\n",
      "  0%|          | 0/20 [00:00<?, ?it/s]"
     ]
    },
    {
     "name": "stdout",
     "output_type": "stream",
     "text": [
      "{'ner': 8.846043379436455e-08}\n"
     ]
    },
    {
     "name": "stderr",
     "output_type": "stream",
     "text": [
      "100%|██████████| 20/20 [00:04<00:00,  4.32it/s]\n",
      "  0%|          | 0/20 [00:00<?, ?it/s]"
     ]
    },
    {
     "name": "stdout",
     "output_type": "stream",
     "text": [
      "{'ner': 9.638639402144728e-10}\n"
     ]
    },
    {
     "name": "stderr",
     "output_type": "stream",
     "text": [
      "100%|██████████| 20/20 [00:04<00:00,  4.61it/s]\n",
      "  5%|▌         | 1/20 [00:00<00:03,  6.23it/s]"
     ]
    },
    {
     "name": "stdout",
     "output_type": "stream",
     "text": [
      "{'ner': 1.3602756681168284e-07}\n"
     ]
    },
    {
     "name": "stderr",
     "output_type": "stream",
     "text": [
      "100%|██████████| 20/20 [00:03<00:00,  5.26it/s]\n",
      "  5%|▌         | 1/20 [00:00<00:03,  5.42it/s]"
     ]
    },
    {
     "name": "stdout",
     "output_type": "stream",
     "text": [
      "{'ner': 0.00023596121372768954}\n"
     ]
    },
    {
     "name": "stderr",
     "output_type": "stream",
     "text": [
      "100%|██████████| 20/20 [00:04<00:00,  4.47it/s]\n",
      "  0%|          | 0/20 [00:00<?, ?it/s]"
     ]
    },
    {
     "name": "stdout",
     "output_type": "stream",
     "text": [
      "{'ner': 1.656203466220325e-10}\n"
     ]
    },
    {
     "name": "stderr",
     "output_type": "stream",
     "text": [
      "100%|██████████| 20/20 [00:04<00:00,  4.49it/s]\n",
      "  5%|▌         | 1/20 [00:00<00:02,  6.55it/s]"
     ]
    },
    {
     "name": "stdout",
     "output_type": "stream",
     "text": [
      "{'ner': 1.1150816320417833e-07}\n"
     ]
    },
    {
     "name": "stderr",
     "output_type": "stream",
     "text": [
      "100%|██████████| 20/20 [00:04<00:00,  4.27it/s]\n",
      "  0%|          | 0/20 [00:00<?, ?it/s]"
     ]
    },
    {
     "name": "stdout",
     "output_type": "stream",
     "text": [
      "{'ner': 1.844403057739358e-05}\n"
     ]
    },
    {
     "name": "stderr",
     "output_type": "stream",
     "text": [
      "100%|██████████| 20/20 [00:03<00:00,  5.16it/s]\n",
      "  5%|▌         | 1/20 [00:00<00:02,  6.47it/s]"
     ]
    },
    {
     "name": "stdout",
     "output_type": "stream",
     "text": [
      "{'ner': 0.0003997741746201619}\n"
     ]
    },
    {
     "name": "stderr",
     "output_type": "stream",
     "text": [
      "100%|██████████| 20/20 [00:04<00:00,  4.49it/s]\n",
      "  0%|          | 0/20 [00:00<?, ?it/s]"
     ]
    },
    {
     "name": "stdout",
     "output_type": "stream",
     "text": [
      "{'ner': 5.045316254181955e-06}\n"
     ]
    },
    {
     "name": "stderr",
     "output_type": "stream",
     "text": [
      "100%|██████████| 20/20 [00:04<00:00,  4.08it/s]\n",
      "  0%|          | 0/20 [00:00<?, ?it/s]"
     ]
    },
    {
     "name": "stdout",
     "output_type": "stream",
     "text": [
      "{'ner': 4.485437976044719e-09}\n"
     ]
    },
    {
     "name": "stderr",
     "output_type": "stream",
     "text": [
      "100%|██████████| 20/20 [00:04<00:00,  4.61it/s]\n",
      "  5%|▌         | 1/20 [00:00<00:02,  7.54it/s]"
     ]
    },
    {
     "name": "stdout",
     "output_type": "stream",
     "text": [
      "{'ner': 5.0998789329793945e-05}\n"
     ]
    },
    {
     "name": "stderr",
     "output_type": "stream",
     "text": [
      "100%|██████████| 20/20 [00:04<00:00,  4.44it/s]\n",
      "  0%|          | 0/20 [00:00<?, ?it/s]"
     ]
    },
    {
     "name": "stdout",
     "output_type": "stream",
     "text": [
      "{'ner': 1.479125734486709e-11}\n"
     ]
    },
    {
     "name": "stderr",
     "output_type": "stream",
     "text": [
      "100%|██████████| 20/20 [00:04<00:00,  4.01it/s]\n",
      "  0%|          | 0/20 [00:00<?, ?it/s]"
     ]
    },
    {
     "name": "stdout",
     "output_type": "stream",
     "text": [
      "{'ner': 9.201261987415661e-09}\n"
     ]
    },
    {
     "name": "stderr",
     "output_type": "stream",
     "text": [
      "100%|██████████| 20/20 [00:04<00:00,  4.46it/s]\n",
      "  0%|          | 0/20 [00:00<?, ?it/s]"
     ]
    },
    {
     "name": "stdout",
     "output_type": "stream",
     "text": [
      "{'ner': 7.199016252005203e-08}\n"
     ]
    },
    {
     "name": "stderr",
     "output_type": "stream",
     "text": [
      "100%|██████████| 20/20 [00:05<00:00,  3.80it/s]\n",
      "  0%|          | 0/20 [00:00<?, ?it/s]"
     ]
    },
    {
     "name": "stdout",
     "output_type": "stream",
     "text": [
      "{'ner': 2.1633237933492023e-13}\n"
     ]
    },
    {
     "name": "stderr",
     "output_type": "stream",
     "text": [
      "100%|██████████| 20/20 [00:05<00:00,  3.85it/s]\n",
      "  0%|          | 0/20 [00:00<?, ?it/s]"
     ]
    },
    {
     "name": "stdout",
     "output_type": "stream",
     "text": [
      "{'ner': 4.6187596267496965e-10}\n"
     ]
    },
    {
     "name": "stderr",
     "output_type": "stream",
     "text": [
      "100%|██████████| 20/20 [00:05<00:00,  3.56it/s]\n",
      "  5%|▌         | 1/20 [00:00<00:03,  5.17it/s]"
     ]
    },
    {
     "name": "stdout",
     "output_type": "stream",
     "text": [
      "{'ner': 1.4342902442761517e-10}\n"
     ]
    },
    {
     "name": "stderr",
     "output_type": "stream",
     "text": [
      "100%|██████████| 20/20 [00:05<00:00,  3.85it/s]\n",
      "  0%|          | 0/20 [00:00<?, ?it/s]"
     ]
    },
    {
     "name": "stdout",
     "output_type": "stream",
     "text": [
      "{'ner': 4.6040459827779566e-11}\n"
     ]
    },
    {
     "name": "stderr",
     "output_type": "stream",
     "text": [
      "100%|██████████| 20/20 [00:05<00:00,  3.42it/s]\n",
      "  0%|          | 0/20 [00:00<?, ?it/s]"
     ]
    },
    {
     "name": "stdout",
     "output_type": "stream",
     "text": [
      "{'ner': 6.006469704832393e-09}\n"
     ]
    },
    {
     "name": "stderr",
     "output_type": "stream",
     "text": [
      "100%|██████████| 20/20 [00:05<00:00,  3.61it/s]\n",
      "  5%|▌         | 1/20 [00:00<00:02,  6.39it/s]"
     ]
    },
    {
     "name": "stdout",
     "output_type": "stream",
     "text": [
      "{'ner': 7.561661940366221e-07}\n"
     ]
    },
    {
     "name": "stderr",
     "output_type": "stream",
     "text": [
      "100%|██████████| 20/20 [00:05<00:00,  3.62it/s]\n",
      "  0%|          | 0/20 [00:00<?, ?it/s]"
     ]
    },
    {
     "name": "stdout",
     "output_type": "stream",
     "text": [
      "{'ner': 6.804273239089774e-07}\n"
     ]
    },
    {
     "name": "stderr",
     "output_type": "stream",
     "text": [
      "100%|██████████| 20/20 [00:05<00:00,  3.47it/s]\n",
      "  0%|          | 0/20 [00:00<?, ?it/s]"
     ]
    },
    {
     "name": "stdout",
     "output_type": "stream",
     "text": [
      "{'ner': 6.784587136911067e-08}\n"
     ]
    },
    {
     "name": "stderr",
     "output_type": "stream",
     "text": [
      "100%|██████████| 20/20 [00:05<00:00,  3.51it/s]\n",
      "  0%|          | 0/20 [00:00<?, ?it/s]"
     ]
    },
    {
     "name": "stdout",
     "output_type": "stream",
     "text": [
      "{'ner': 2.1534043882565574e-12}\n"
     ]
    },
    {
     "name": "stderr",
     "output_type": "stream",
     "text": [
      "100%|██████████| 20/20 [00:06<00:00,  3.12it/s]\n",
      "  0%|          | 0/20 [00:00<?, ?it/s]"
     ]
    },
    {
     "name": "stdout",
     "output_type": "stream",
     "text": [
      "{'ner': 1.0198775348109145e-10}\n"
     ]
    },
    {
     "name": "stderr",
     "output_type": "stream",
     "text": [
      "100%|██████████| 20/20 [00:06<00:00,  3.27it/s]\n",
      "  0%|          | 0/20 [00:00<?, ?it/s]"
     ]
    },
    {
     "name": "stdout",
     "output_type": "stream",
     "text": [
      "{'ner': 1.2812653385636947e-06}\n"
     ]
    },
    {
     "name": "stderr",
     "output_type": "stream",
     "text": [
      "100%|██████████| 20/20 [00:06<00:00,  3.32it/s]\n",
      "  0%|          | 0/20 [00:00<?, ?it/s]"
     ]
    },
    {
     "name": "stdout",
     "output_type": "stream",
     "text": [
      "{'ner': 3.719075408290004e-07}\n"
     ]
    },
    {
     "name": "stderr",
     "output_type": "stream",
     "text": [
      "100%|██████████| 20/20 [00:05<00:00,  3.44it/s]\n",
      "  0%|          | 0/20 [00:00<?, ?it/s]"
     ]
    },
    {
     "name": "stdout",
     "output_type": "stream",
     "text": [
      "{'ner': 4.1406005571041926e-10}\n"
     ]
    },
    {
     "name": "stderr",
     "output_type": "stream",
     "text": [
      "100%|██████████| 20/20 [00:06<00:00,  3.14it/s]\n",
      "  0%|          | 0/20 [00:00<?, ?it/s]"
     ]
    },
    {
     "name": "stdout",
     "output_type": "stream",
     "text": [
      "{'ner': 9.243353646540112e-08}\n"
     ]
    },
    {
     "name": "stderr",
     "output_type": "stream",
     "text": [
      "100%|██████████| 20/20 [00:06<00:00,  3.22it/s]\n",
      "  0%|          | 0/20 [00:00<?, ?it/s]"
     ]
    },
    {
     "name": "stdout",
     "output_type": "stream",
     "text": [
      "{'ner': 9.986793897153377e-12}\n"
     ]
    },
    {
     "name": "stderr",
     "output_type": "stream",
     "text": [
      "100%|██████████| 20/20 [00:06<00:00,  3.28it/s]\n",
      "  5%|▌         | 1/20 [00:00<00:02,  6.68it/s]"
     ]
    },
    {
     "name": "stdout",
     "output_type": "stream",
     "text": [
      "{'ner': 1.3375105388097696e-10}\n"
     ]
    },
    {
     "name": "stderr",
     "output_type": "stream",
     "text": [
      "100%|██████████| 20/20 [00:04<00:00,  4.69it/s]\n",
      "  5%|▌         | 1/20 [00:00<00:03,  4.77it/s]"
     ]
    },
    {
     "name": "stdout",
     "output_type": "stream",
     "text": [
      "{'ner': 2.5527588601111523e-13}\n"
     ]
    },
    {
     "name": "stderr",
     "output_type": "stream",
     "text": [
      "100%|██████████| 20/20 [00:05<00:00,  3.52it/s]\n",
      "  0%|          | 0/20 [00:00<?, ?it/s]"
     ]
    },
    {
     "name": "stdout",
     "output_type": "stream",
     "text": [
      "{'ner': 3.94559539370219e-12}\n"
     ]
    },
    {
     "name": "stderr",
     "output_type": "stream",
     "text": [
      "100%|██████████| 20/20 [00:05<00:00,  3.48it/s]\n",
      "  0%|          | 0/20 [00:00<?, ?it/s]"
     ]
    },
    {
     "name": "stdout",
     "output_type": "stream",
     "text": [
      "{'ner': 6.560046928551437e-11}\n"
     ]
    },
    {
     "name": "stderr",
     "output_type": "stream",
     "text": [
      "100%|██████████| 20/20 [00:05<00:00,  3.61it/s]\n",
      "  5%|▌         | 1/20 [00:00<00:02,  6.82it/s]"
     ]
    },
    {
     "name": "stdout",
     "output_type": "stream",
     "text": [
      "{'ner': 0.0010926228435413623}\n"
     ]
    },
    {
     "name": "stderr",
     "output_type": "stream",
     "text": [
      "100%|██████████| 20/20 [00:05<00:00,  3.42it/s]\n",
      "  0%|          | 0/20 [00:00<?, ?it/s]"
     ]
    },
    {
     "name": "stdout",
     "output_type": "stream",
     "text": [
      "{'ner': 0.07240297584153504}\n"
     ]
    },
    {
     "name": "stderr",
     "output_type": "stream",
     "text": [
      "100%|██████████| 20/20 [00:06<00:00,  3.33it/s]\n",
      "  0%|          | 0/20 [00:00<?, ?it/s]"
     ]
    },
    {
     "name": "stdout",
     "output_type": "stream",
     "text": [
      "{'ner': 1.548532705131846e-09}\n"
     ]
    },
    {
     "name": "stderr",
     "output_type": "stream",
     "text": [
      "100%|██████████| 20/20 [00:05<00:00,  3.79it/s]"
     ]
    },
    {
     "name": "stdout",
     "output_type": "stream",
     "text": [
      "{'ner': 3.329340628666879e-10}\n"
     ]
    },
    {
     "name": "stderr",
     "output_type": "stream",
     "text": [
      "\n"
     ]
    }
   ],
   "source": [
    "for _, annotations in TRAIN_DATA:\n",
    "    for ent in annotations.get('entities'):\n",
    "        ner.add_label(ent[2])\n",
    "\n",
    "other_pipes = [pipe for pipe in nlp.pipe_names if pipe != 'ner']\n",
    "with nlp.disable_pipes(*other_pipes):\n",
    "    optimizer = nlp.begin_training()\n",
    "    for itn in range(n_iter):\n",
    "        random.shuffle(TRAIN_DATA)\n",
    "        losses = {}\n",
    "        for text, annotations in tqdm(TRAIN_DATA):\n",
    "            nlp.update(\n",
    "                [text],  \n",
    "                [annotations],  \n",
    "                drop=0.5,  \n",
    "                sgd=optimizer,\n",
    "                losses=losses)\n",
    "        print(losses)"
   ]
  },
  {
   "cell_type": "markdown",
   "metadata": {},
   "source": [
    "### Test the trained model"
   ]
  },
  {
   "cell_type": "code",
   "execution_count": 28,
   "metadata": {},
   "outputs": [
    {
     "name": "stdout",
     "output_type": "stream",
     "text": [
      "Entities [('bb cream', 'Garnier BB Cream Miracle Skin Perfector')]\n",
      "Entities []\n",
      "Entities [('bb cream', 'Garnier BB Cream Miracle Skin Perfector')]\n",
      "Entities []\n",
      "Entities [('bb cream', 'Garnier BB Cream Miracle Skin Perfector')]\n",
      "Entities [('bb cream', 'Garnier BB Cream Miracle Skin Perfector')]\n",
      "Entities []\n",
      "Entities [('bb cream', 'Garnier BB Cream Miracle Skin Perfector')]\n",
      "Entities [('bb cream', 'Garnier BB Cream Miracle Skin Perfector')]\n",
      "Entities [('bb cream', 'Garnier BB Cream Miracle Skin Perfector')]\n",
      "Entities [('bb cream', 'Garnier BB Cream Miracle Skin Perfector')]\n",
      "Entities [('bb cream', 'Garnier BB Cream Miracle Skin Perfector')]\n",
      "Entities [('bb cream', 'Garnier BB Cream Miracle Skin Perfector')]\n",
      "Entities [('bb cream', 'Garnier BB Cream Miracle Skin Perfector')]\n",
      "Entities [('bb cream', 'Garnier BB Cream Miracle Skin Perfector')]\n",
      "Entities [('bb cream', 'Garnier BB Cream Miracle Skin Perfector')]\n",
      "Entities [('bb cream', 'Garnier BB Cream Miracle Skin Perfector')]\n",
      "Entities [('bb cream', 'Garnier BB Cream Miracle Skin Perfector')]\n",
      "Entities [('bb cream', 'Garnier BB Cream Miracle Skin Perfector')]\n",
      "Entities [('bb cream', 'Garnier BB Cream Miracle Skin Perfector')]\n"
     ]
    }
   ],
   "source": [
    "for text, _ in TRAIN_DATA:\n",
    "    doc = nlp(text)\n",
    "    print('Entities', [(ent.text, ent.label_) for ent in doc.ents])"
   ]
  },
  {
   "cell_type": "markdown",
   "metadata": {},
   "source": [
    "### Save the Model"
   ]
  },
  {
   "cell_type": "code",
   "execution_count": 29,
   "metadata": {},
   "outputs": [
    {
     "name": "stdout",
     "output_type": "stream",
     "text": [
      "Saved model to C:\\Users\\nithi\\Documents\\productNER\n"
     ]
    }
   ],
   "source": [
    "if output_dir is not None:\n",
    "    output_dir = Path(output_dir)\n",
    "    if not output_dir.exists():\n",
    "        output_dir.mkdir()\n",
    "    nlp.to_disk(output_dir)\n",
    "    print(\"Saved model to\", output_dir)        "
   ]
  },
  {
   "cell_type": "markdown",
   "metadata": {},
   "source": [
    "### Testing the saved model"
   ]
  },
  {
   "cell_type": "code",
   "execution_count": 30,
   "metadata": {},
   "outputs": [
    {
     "name": "stdout",
     "output_type": "stream",
     "text": [
      "Loading from C:\\Users\\nithi\\Documents\\productNER\n",
      "Entities [('bb cream', 'Garnier BB Cream Miracle Skin Perfector')]\n",
      "\n",
      "Entities []\n",
      "\n",
      "Entities [('bb cream', 'Garnier BB Cream Miracle Skin Perfector')]\n",
      "\n",
      "Entities []\n",
      "\n",
      "Entities [('bb cream', 'Garnier BB Cream Miracle Skin Perfector')]\n",
      "\n",
      "Entities [('bb cream', 'Garnier BB Cream Miracle Skin Perfector')]\n",
      "\n",
      "Entities []\n",
      "\n",
      "Entities [('bb cream', 'Garnier BB Cream Miracle Skin Perfector')]\n",
      "\n",
      "Entities [('bb cream', 'Garnier BB Cream Miracle Skin Perfector')]\n",
      "\n",
      "Entities [('bb cream', 'Garnier BB Cream Miracle Skin Perfector')]\n",
      "\n",
      "Entities [('bb cream', 'Garnier BB Cream Miracle Skin Perfector')]\n",
      "\n",
      "Entities [('bb cream', 'Garnier BB Cream Miracle Skin Perfector')]\n",
      "\n",
      "Entities [('bb cream', 'Garnier BB Cream Miracle Skin Perfector')]\n",
      "\n",
      "Entities [('bb cream', 'Garnier BB Cream Miracle Skin Perfector')]\n",
      "\n",
      "Entities [('bb cream', 'Garnier BB Cream Miracle Skin Perfector')]\n",
      "\n",
      "Entities [('bb cream', 'Garnier BB Cream Miracle Skin Perfector')]\n",
      "\n",
      "Entities [('bb cream', 'Garnier BB Cream Miracle Skin Perfector')]\n",
      "\n",
      "Entities [('bb cream', 'Garnier BB Cream Miracle Skin Perfector')]\n",
      "\n",
      "Entities [('bb cream', 'Garnier BB Cream Miracle Skin Perfector')]\n",
      "\n",
      "Entities [('bb cream', 'Garnier BB Cream Miracle Skin Perfector')]\n",
      "\n"
     ]
    }
   ],
   "source": [
    "print(\"Loading from\", output_dir)\n",
    "nlp2 = spacy.load(output_dir)\n",
    "for text, _ in TRAIN_DATA:\n",
    "    doc = nlp2(text)\n",
    "    print('Entities', [(ent.text, ent.label_) for ent in doc.ents])\n",
    "    print()"
   ]
  },
  {
   "cell_type": "markdown",
   "metadata": {},
   "source": [
    "### Test the model for user input"
   ]
  },
  {
   "cell_type": "code",
   "execution_count": 31,
   "metadata": {},
   "outputs": [
    {
     "name": "stdout",
     "output_type": "stream",
     "text": [
      "Entities [('bb cream', 'Garnier BB Cream Miracle Skin Perfector', 16, 24)]\n"
     ]
    }
   ],
   "source": [
    "def find(s):\n",
    "    doc = nlp2(s.lower())\n",
    "    res=[(ent.text, ent.label_,ent.start_char,ent.end_char) for ent in doc.ents]\n",
    "    if(len(res)>0):\n",
    "        print('Entities', res)\n",
    "    else:\n",
    "        print(\"Unable to identify the Product from the review!\")\n",
    "s=\"1.Having used a BB cream by a different brand I had to change as it was making my skin so shiny and greasy looking within hours of application. This one by Garnier is fab! It definitely blurs blemishes I have and makes my skin look healthy without using heavy foundation. It blends really easily into my skin and is my go to product every day for natural looking perfected skin.\"\n",
    "find(s)"
   ]
  },
  {
   "cell_type": "code",
   "execution_count": 32,
   "metadata": {},
   "outputs": [
    {
     "name": "stdout",
     "output_type": "stream",
     "text": [
      "Entities [('bb cream', 'Garnier BB Cream Miracle Skin Perfector', 7, 15), ('cream', 'Garnier BB Cream Miracle Skin Perfector', 82, 87)]\n"
     ]
    }
   ],
   "source": [
    "s=\"2.This bb cream is amazeballs I've always wanted to buy the Revlon photo ready bb cream but heard that it's very light coverage so I bought this one and never looked back. I first started using it with fingers but found it better to use with the real techniques expert face brush as it looked flawless and the coverage was just perfect. The finish of it is matte which is good as I'm an oily skin gal and the coverage is beautiful and not too heavy so definitely one to invest in, and an amazing price.\"\n",
    "find(s)"
   ]
  },
  {
   "cell_type": "code",
   "execution_count": 33,
   "metadata": {},
   "outputs": [
    {
     "name": "stdout",
     "output_type": "stream",
     "text": [
      "Unable to identify the Product from the review!\n"
     ]
    }
   ],
   "source": [
    "s=\"3.I have used the original of this product but didn't like it at all! This version is fantastic it covers as well as a foundation and makes your skin look flawless!\"\n",
    "find(s)"
   ]
  },
  {
   "cell_type": "code",
   "execution_count": 34,
   "metadata": {},
   "outputs": [
    {
     "name": "stdout",
     "output_type": "stream",
     "text": [
      "Unable to identify the Product from the review!\n"
     ]
    }
   ],
   "source": [
    "s=\"4.I really wanted to like this product; however, it was not as promised. I have oily skin and when applied the product made my skin seem oilier and even more shine. The packaging is poor meaning the cream goes everywhere. It does have a nice colour when first out on but that is the only advantage. \"\n",
    "find(s)"
   ]
  },
  {
   "cell_type": "code",
   "execution_count": 35,
   "metadata": {},
   "outputs": [
    {
     "name": "stdout",
     "output_type": "stream",
     "text": [
      "Unable to identify the Product from the review!\n"
     ]
    }
   ],
   "source": [
    "s=\"5.Bought this today and wanted to try it out straight away. It is sooooooo light on the skin and after about 5 mins it doesn't even feel like your wearing foundation! I have dry and oily skin but you couldn't tell when wearing this. It's coverage is amazing even with the tiniest amount. Will definatly be buying this again!!! Very happy! :D\"\n",
    "find(s)"
   ]
  }
 ],
 "metadata": {
  "kernelspec": {
   "display_name": "Python 3",
   "language": "python",
   "name": "python3"
  },
  "language_info": {
   "codemirror_mode": {
    "name": "ipython",
    "version": 3
   },
   "file_extension": ".py",
   "mimetype": "text/x-python",
   "name": "python",
   "nbconvert_exporter": "python",
   "pygments_lexer": "ipython3",
   "version": "3.6.10"
  }
 },
 "nbformat": 4,
 "nbformat_minor": 4
}
